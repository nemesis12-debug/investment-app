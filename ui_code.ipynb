{
  "nbformat": 4,
  "nbformat_minor": 0,
  "metadata": {
    "colab": {
      "provenance": [],
      "authorship_tag": "ABX9TyOCTukxtKiCpE70een4ZFoE",
      "include_colab_link": true
    },
    "kernelspec": {
      "name": "python3",
      "display_name": "Python 3"
    },
    "language_info": {
      "name": "python"
    }
  },
  "cells": [
    {
      "cell_type": "markdown",
      "metadata": {
        "id": "view-in-github",
        "colab_type": "text"
      },
      "source": [
        "<a href=\"https://colab.research.google.com/github/nemesis12-debug/investment-app/blob/main/ui_code.ipynb\" target=\"_parent\"><img src=\"https://colab.research.google.com/assets/colab-badge.svg\" alt=\"Open In Colab\"/></a>"
      ]
    },
    {
      "cell_type": "code",
      "execution_count": null,
      "metadata": {
        "id": "TpJ61GFg_bqh"
      },
      "outputs": [],
      "source": [
        "pip install streamlit"
      ]
    },
    {
      "cell_type": "code",
      "source": [
        "import streamlit as st\n",
        "\n",
        "# Hide Streamlit default menu and footer\n",
        "hide_streamlit_style = \"\"\"\n",
        "        <style>\n",
        "        #MainMenu {visibility: hidden;}\n",
        "        footer {visibility: hidden;}\n",
        "        body {\n",
        "            background-color: black;\n",
        "        }\n",
        "        </style>\n",
        "        \"\"\"\n",
        "st.markdown(hide_streamlit_style, unsafe_allow_html=True)\n",
        "\n",
        "# Custom full background black\n",
        "st.markdown(\n",
        "    \"\"\"\n",
        "    <style>\n",
        "    .stApp {\n",
        "        background-color: black;\n",
        "    }\n",
        "    </style>\n",
        "    \"\"\",\n",
        "    unsafe_allow_html=True\n",
        ")\n",
        "\n",
        "# Show Logo (make sure your file path is correct)\n",
        "st.image(\"assets/logo.png\", width=250)\n",
        "\n",
        "# Example Title\n",
        "st.markdown(\"<h1 style='color: white;'>Welcome to Your App</h1>\", unsafe_allow_html=True)\n"
      ],
      "metadata": {
        "id": "K48vxByzAF1C"
      },
      "execution_count": null,
      "outputs": []
    }
  ]
}